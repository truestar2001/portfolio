{
 "cells": [
  {
   "cell_type": "code",
   "execution_count": 1,
   "id": "986496a2",
   "metadata": {},
   "outputs": [],
   "source": [
    "%matplotlib inline\n",
    "\n",
    "import pandas as pd\n",
    "import geopandas as gpd\n",
    "import matplotlib.pyplot as plt"
   ]
  },
  {
   "cell_type": "code",
   "execution_count": 3,
   "id": "0db2d502",
   "metadata": {},
   "outputs": [
    {
     "data": {
      "text/html": [
       "<div>\n",
       "<style scoped>\n",
       "    .dataframe tbody tr th:only-of-type {\n",
       "        vertical-align: middle;\n",
       "    }\n",
       "\n",
       "    .dataframe tbody tr th {\n",
       "        vertical-align: top;\n",
       "    }\n",
       "\n",
       "    .dataframe thead th {\n",
       "        text-align: right;\n",
       "    }\n",
       "</style>\n",
       "<table border=\"1\" class=\"dataframe\">\n",
       "  <thead>\n",
       "    <tr style=\"text-align: right;\">\n",
       "      <th></th>\n",
       "      <th>MEGA_NM</th>\n",
       "      <th>MEGA_CD</th>\n",
       "      <th>CTY_CD</th>\n",
       "      <th>CTY_NM</th>\n",
       "      <th>X_AXIS</th>\n",
       "      <th>Y_AXIS</th>\n",
       "      <th>TOTAL</th>\n",
       "      <th>종합전문병</th>\n",
       "      <th>한방병원</th>\n",
       "      <th>치과병원</th>\n",
       "      <th>한의원</th>\n",
       "      <th>조산원</th>\n",
       "      <th>일반병원</th>\n",
       "      <th>요양병원</th>\n",
       "      <th>의원</th>\n",
       "      <th>치과의원</th>\n",
       "      <th>종합병원</th>\n",
       "      <th>소유권</th>\n",
       "      <th>배포처</th>\n",
       "      <th>geometry</th>\n",
       "    </tr>\n",
       "  </thead>\n",
       "  <tbody>\n",
       "    <tr>\n",
       "      <th>0</th>\n",
       "      <td>경상남도</td>\n",
       "      <td>48</td>\n",
       "      <td>4831</td>\n",
       "      <td>거제시</td>\n",
       "      <td>447750</td>\n",
       "      <td>262050</td>\n",
       "      <td>20</td>\n",
       "      <td>0</td>\n",
       "      <td>0</td>\n",
       "      <td>0</td>\n",
       "      <td>0</td>\n",
       "      <td>0</td>\n",
       "      <td>0</td>\n",
       "      <td>0</td>\n",
       "      <td>0</td>\n",
       "      <td>0</td>\n",
       "      <td>0</td>\n",
       "      <td>GIS United INC.</td>\n",
       "      <td>biz-gis.com</td>\n",
       "      <td>POINT (338825.915 162946.474)</td>\n",
       "    </tr>\n",
       "    <tr>\n",
       "      <th>1</th>\n",
       "      <td>경기도</td>\n",
       "      <td>41</td>\n",
       "      <td>4182</td>\n",
       "      <td>가평군</td>\n",
       "      <td>343650</td>\n",
       "      <td>578250</td>\n",
       "      <td>31</td>\n",
       "      <td>0</td>\n",
       "      <td>0</td>\n",
       "      <td>0</td>\n",
       "      <td>0</td>\n",
       "      <td>0</td>\n",
       "      <td>0</td>\n",
       "      <td>0</td>\n",
       "      <td>0</td>\n",
       "      <td>0</td>\n",
       "      <td>0</td>\n",
       "      <td>GIS United INC.</td>\n",
       "      <td>biz-gis.com</td>\n",
       "      <td>POINT (231447.425 478114.975)</td>\n",
       "    </tr>\n",
       "    <tr>\n",
       "      <th>2</th>\n",
       "      <td>경기도</td>\n",
       "      <td>41</td>\n",
       "      <td>4182</td>\n",
       "      <td>가평군</td>\n",
       "      <td>337850</td>\n",
       "      <td>581450</td>\n",
       "      <td>31</td>\n",
       "      <td>0</td>\n",
       "      <td>0</td>\n",
       "      <td>0</td>\n",
       "      <td>0</td>\n",
       "      <td>0</td>\n",
       "      <td>0</td>\n",
       "      <td>0</td>\n",
       "      <td>0</td>\n",
       "      <td>0</td>\n",
       "      <td>0</td>\n",
       "      <td>GIS United INC.</td>\n",
       "      <td>biz-gis.com</td>\n",
       "      <td>POINT (225613.220 481253.114)</td>\n",
       "    </tr>\n",
       "    <tr>\n",
       "      <th>3</th>\n",
       "      <td>강원도</td>\n",
       "      <td>42</td>\n",
       "      <td>4215</td>\n",
       "      <td>강릉시</td>\n",
       "      <td>485750</td>\n",
       "      <td>564250</td>\n",
       "      <td>18</td>\n",
       "      <td>0</td>\n",
       "      <td>0</td>\n",
       "      <td>0</td>\n",
       "      <td>0</td>\n",
       "      <td>0</td>\n",
       "      <td>0</td>\n",
       "      <td>0</td>\n",
       "      <td>0</td>\n",
       "      <td>0</td>\n",
       "      <td>0</td>\n",
       "      <td>GIS United INC.</td>\n",
       "      <td>biz-gis.com</td>\n",
       "      <td>POINT (373720.794 465626.757)</td>\n",
       "    </tr>\n",
       "    <tr>\n",
       "      <th>4</th>\n",
       "      <td>강원도</td>\n",
       "      <td>42</td>\n",
       "      <td>4215</td>\n",
       "      <td>강릉시</td>\n",
       "      <td>491750</td>\n",
       "      <td>556950</td>\n",
       "      <td>18</td>\n",
       "      <td>0</td>\n",
       "      <td>0</td>\n",
       "      <td>0</td>\n",
       "      <td>0</td>\n",
       "      <td>0</td>\n",
       "      <td>0</td>\n",
       "      <td>0</td>\n",
       "      <td>0</td>\n",
       "      <td>0</td>\n",
       "      <td>0</td>\n",
       "      <td>GIS United INC.</td>\n",
       "      <td>biz-gis.com</td>\n",
       "      <td>POINT (379800.430 458388.160)</td>\n",
       "    </tr>\n",
       "  </tbody>\n",
       "</table>\n",
       "</div>"
      ],
      "text/plain": [
       "  MEGA_NM MEGA_CD CTY_CD CTY_NM  X_AXIS  Y_AXIS  TOTAL  종합전문병  한방병원  치과병원   \n",
       "0    경상남도      48   4831    거제시  447750  262050     20      0     0     0  \\\n",
       "1     경기도      41   4182    가평군  343650  578250     31      0     0     0   \n",
       "2     경기도      41   4182    가평군  337850  581450     31      0     0     0   \n",
       "3     강원도      42   4215    강릉시  485750  564250     18      0     0     0   \n",
       "4     강원도      42   4215    강릉시  491750  556950     18      0     0     0   \n",
       "\n",
       "   한의원  조산원  일반병원  요양병원  의원  치과의원  종합병원              소유권          배포처   \n",
       "0    0    0     0     0   0     0     0  GIS United INC.  biz-gis.com  \\\n",
       "1    0    0     0     0   0     0     0  GIS United INC.  biz-gis.com   \n",
       "2    0    0     0     0   0     0     0  GIS United INC.  biz-gis.com   \n",
       "3    0    0     0     0   0     0     0  GIS United INC.  biz-gis.com   \n",
       "4    0    0     0     0   0     0     0  GIS United INC.  biz-gis.com   \n",
       "\n",
       "                        geometry  \n",
       "0  POINT (338825.915 162946.474)  \n",
       "1  POINT (231447.425 478114.975)  \n",
       "2  POINT (225613.220 481253.114)  \n",
       "3  POINT (373720.794 465626.757)  \n",
       "4  POINT (379800.430 458388.160)  "
      ]
     },
     "execution_count": 3,
     "metadata": {},
     "output_type": "execute_result"
    }
   ],
   "source": [
    "hp_KR= gpd.GeoDataFrame.from_file('./XsDB_HOSPITAL_100M_TM/XsDB_병원_100M_TM.shp', encoding='cp949')\n",
    "hp_KR.head()"
   ]
  },
  {
   "cell_type": "code",
   "execution_count": 4,
   "id": "ae8a8876",
   "metadata": {},
   "outputs": [
    {
     "name": "stdout",
     "output_type": "stream",
     "text": [
      "<class 'geopandas.geodataframe.GeoDataFrame'>\n",
      "RangeIndex: 27033 entries, 0 to 27032\n",
      "Data columns (total 20 columns):\n",
      " #   Column    Non-Null Count  Dtype   \n",
      "---  ------    --------------  -----   \n",
      " 0   MEGA_NM   27033 non-null  object  \n",
      " 1   MEGA_CD   27033 non-null  object  \n",
      " 2   CTY_CD    27033 non-null  object  \n",
      " 3   CTY_NM    27033 non-null  object  \n",
      " 4   X_AXIS    27033 non-null  int64   \n",
      " 5   Y_AXIS    27033 non-null  int64   \n",
      " 6   TOTAL     27033 non-null  int64   \n",
      " 7   종합전문병     27033 non-null  int64   \n",
      " 8   한방병원      27033 non-null  int64   \n",
      " 9   치과병원      27033 non-null  int64   \n",
      " 10  한의원       27033 non-null  int64   \n",
      " 11  조산원       27033 non-null  int64   \n",
      " 12  일반병원      27033 non-null  int64   \n",
      " 13  요양병원      27033 non-null  int64   \n",
      " 14  의원        27033 non-null  int64   \n",
      " 15  치과의원      27033 non-null  int64   \n",
      " 16  종합병원      27033 non-null  int64   \n",
      " 17  소유권       27033 non-null  object  \n",
      " 18  배포처       27033 non-null  object  \n",
      " 19  geometry  27033 non-null  geometry\n",
      "dtypes: geometry(1), int64(13), object(6)\n",
      "memory usage: 4.1+ MB\n"
     ]
    }
   ],
   "source": [
    "hp_KR.info()"
   ]
  },
  {
   "cell_type": "code",
   "execution_count": 5,
   "id": "f6bb8af1",
   "metadata": {},
   "outputs": [],
   "source": [
    "hp_GJ = hp_KR[hp_KR['CTY_NM'] == \"광진구\"]"
   ]
  },
  {
   "cell_type": "code",
   "execution_count": 7,
   "id": "87c3ae8a",
   "metadata": {},
   "outputs": [
    {
     "name": "stderr",
     "output_type": "stream",
     "text": [
      "C:\\Users\\bbcc6\\AppData\\Local\\Temp\\ipykernel_13680\\1473020808.py:1: SettingWithCopyWarning: \n",
      "A value is trying to be set on a copy of a slice from a DataFrame\n",
      "\n",
      "See the caveats in the documentation: https://pandas.pydata.org/pandas-docs/stable/user_guide/indexing.html#returning-a-view-versus-a-copy\n",
      "  hp_GJ.rename(columns={'종합전문병':'종합전문병원'}, inplace = True)\n"
     ]
    }
   ],
   "source": [
    "hp_GJ.rename(columns={'종합전문병':'종합전문병원'}, inplace = True)"
   ]
  },
  {
   "cell_type": "code",
   "execution_count": 8,
   "id": "f7a02715",
   "metadata": {},
   "outputs": [
    {
     "data": {
      "text/html": [
       "<div>\n",
       "<style scoped>\n",
       "    .dataframe tbody tr th:only-of-type {\n",
       "        vertical-align: middle;\n",
       "    }\n",
       "\n",
       "    .dataframe tbody tr th {\n",
       "        vertical-align: top;\n",
       "    }\n",
       "\n",
       "    .dataframe thead th {\n",
       "        text-align: right;\n",
       "    }\n",
       "</style>\n",
       "<table border=\"1\" class=\"dataframe\">\n",
       "  <thead>\n",
       "    <tr style=\"text-align: right;\">\n",
       "      <th></th>\n",
       "      <th>MEGA_NM</th>\n",
       "      <th>MEGA_CD</th>\n",
       "      <th>CTY_CD</th>\n",
       "      <th>CTY_NM</th>\n",
       "      <th>X_AXIS</th>\n",
       "      <th>Y_AXIS</th>\n",
       "      <th>TOTAL</th>\n",
       "      <th>종합전문병원</th>\n",
       "      <th>한방병원</th>\n",
       "      <th>치과병원</th>\n",
       "      <th>한의원</th>\n",
       "      <th>조산원</th>\n",
       "      <th>일반병원</th>\n",
       "      <th>요양병원</th>\n",
       "      <th>의원</th>\n",
       "      <th>치과의원</th>\n",
       "      <th>종합병원</th>\n",
       "      <th>소유권</th>\n",
       "      <th>배포처</th>\n",
       "      <th>geometry</th>\n",
       "    </tr>\n",
       "  </thead>\n",
       "  <tbody>\n",
       "    <tr>\n",
       "      <th>670</th>\n",
       "      <td>서울특별시</td>\n",
       "      <td>11</td>\n",
       "      <td>1121</td>\n",
       "      <td>광진구</td>\n",
       "      <td>319550</td>\n",
       "      <td>551050</td>\n",
       "      <td>100</td>\n",
       "      <td>0</td>\n",
       "      <td>0</td>\n",
       "      <td>0</td>\n",
       "      <td>25</td>\n",
       "      <td>0</td>\n",
       "      <td>0</td>\n",
       "      <td>0</td>\n",
       "      <td>50</td>\n",
       "      <td>25</td>\n",
       "      <td>0</td>\n",
       "      <td>GIS United INC.</td>\n",
       "      <td>biz-gis.com</td>\n",
       "      <td>POINT (207637.004 450658.861)</td>\n",
       "    </tr>\n",
       "    <tr>\n",
       "      <th>681</th>\n",
       "      <td>서울특별시</td>\n",
       "      <td>11</td>\n",
       "      <td>1121</td>\n",
       "      <td>광진구</td>\n",
       "      <td>319150</td>\n",
       "      <td>548650</td>\n",
       "      <td>175</td>\n",
       "      <td>0</td>\n",
       "      <td>0</td>\n",
       "      <td>0</td>\n",
       "      <td>0</td>\n",
       "      <td>0</td>\n",
       "      <td>0</td>\n",
       "      <td>0</td>\n",
       "      <td>125</td>\n",
       "      <td>50</td>\n",
       "      <td>0</td>\n",
       "      <td>GIS United INC.</td>\n",
       "      <td>biz-gis.com</td>\n",
       "      <td>POINT (207262.471 448254.704)</td>\n",
       "    </tr>\n",
       "    <tr>\n",
       "      <th>707</th>\n",
       "      <td>서울특별시</td>\n",
       "      <td>11</td>\n",
       "      <td>1121</td>\n",
       "      <td>광진구</td>\n",
       "      <td>320450</td>\n",
       "      <td>549150</td>\n",
       "      <td>150</td>\n",
       "      <td>0</td>\n",
       "      <td>0</td>\n",
       "      <td>0</td>\n",
       "      <td>25</td>\n",
       "      <td>0</td>\n",
       "      <td>0</td>\n",
       "      <td>0</td>\n",
       "      <td>100</td>\n",
       "      <td>25</td>\n",
       "      <td>0</td>\n",
       "      <td>GIS United INC.</td>\n",
       "      <td>biz-gis.com</td>\n",
       "      <td>POINT (208557.125 448768.471)</td>\n",
       "    </tr>\n",
       "    <tr>\n",
       "      <th>762</th>\n",
       "      <td>서울특별시</td>\n",
       "      <td>11</td>\n",
       "      <td>1121</td>\n",
       "      <td>광진구</td>\n",
       "      <td>319850</td>\n",
       "      <td>548350</td>\n",
       "      <td>25</td>\n",
       "      <td>0</td>\n",
       "      <td>0</td>\n",
       "      <td>0</td>\n",
       "      <td>0</td>\n",
       "      <td>0</td>\n",
       "      <td>0</td>\n",
       "      <td>0</td>\n",
       "      <td>25</td>\n",
       "      <td>0</td>\n",
       "      <td>0</td>\n",
       "      <td>GIS United INC.</td>\n",
       "      <td>biz-gis.com</td>\n",
       "      <td>POINT (207965.627 447962.137)</td>\n",
       "    </tr>\n",
       "    <tr>\n",
       "      <th>811</th>\n",
       "      <td>서울특별시</td>\n",
       "      <td>11</td>\n",
       "      <td>1121</td>\n",
       "      <td>광진구</td>\n",
       "      <td>319650</td>\n",
       "      <td>549550</td>\n",
       "      <td>50</td>\n",
       "      <td>0</td>\n",
       "      <td>0</td>\n",
       "      <td>0</td>\n",
       "      <td>0</td>\n",
       "      <td>0</td>\n",
       "      <td>0</td>\n",
       "      <td>0</td>\n",
       "      <td>50</td>\n",
       "      <td>0</td>\n",
       "      <td>0</td>\n",
       "      <td>GIS United INC.</td>\n",
       "      <td>biz-gis.com</td>\n",
       "      <td>POINT (207752.910 449159.974)</td>\n",
       "    </tr>\n",
       "  </tbody>\n",
       "</table>\n",
       "</div>"
      ],
      "text/plain": [
       "    MEGA_NM MEGA_CD CTY_CD CTY_NM  X_AXIS  Y_AXIS  TOTAL  종합전문병원  한방병원  치과병원   \n",
       "670   서울특별시      11   1121    광진구  319550  551050    100       0     0     0  \\\n",
       "681   서울특별시      11   1121    광진구  319150  548650    175       0     0     0   \n",
       "707   서울특별시      11   1121    광진구  320450  549150    150       0     0     0   \n",
       "762   서울특별시      11   1121    광진구  319850  548350     25       0     0     0   \n",
       "811   서울특별시      11   1121    광진구  319650  549550     50       0     0     0   \n",
       "\n",
       "     한의원  조산원  일반병원  요양병원   의원  치과의원  종합병원              소유권          배포처   \n",
       "670   25    0     0     0   50    25     0  GIS United INC.  biz-gis.com  \\\n",
       "681    0    0     0     0  125    50     0  GIS United INC.  biz-gis.com   \n",
       "707   25    0     0     0  100    25     0  GIS United INC.  biz-gis.com   \n",
       "762    0    0     0     0   25     0     0  GIS United INC.  biz-gis.com   \n",
       "811    0    0     0     0   50     0     0  GIS United INC.  biz-gis.com   \n",
       "\n",
       "                          geometry  \n",
       "670  POINT (207637.004 450658.861)  \n",
       "681  POINT (207262.471 448254.704)  \n",
       "707  POINT (208557.125 448768.471)  \n",
       "762  POINT (207965.627 447962.137)  \n",
       "811  POINT (207752.910 449159.974)  "
      ]
     },
     "execution_count": 8,
     "metadata": {},
     "output_type": "execute_result"
    }
   ],
   "source": [
    "hp_GJ.head()"
   ]
  },
  {
   "cell_type": "code",
   "execution_count": 9,
   "id": "69c7be2e",
   "metadata": {},
   "outputs": [],
   "source": [
    "using_columns = ['X_AXIS', 'Y_AXIS', 'TOTAL','한방병원','치과병원','한의원',,\n",
    "                 '일반병원','요양병원','의원','치과의원','종합병원','geometry']"
   ]
  },
  {
   "cell_type": "code",
   "execution_count": 10,
   "id": "10929a79",
   "metadata": {},
   "outputs": [
    {
     "data": {
      "text/plain": [
       "array(['서울특별시'], dtype=object)"
      ]
     },
     "execution_count": 10,
     "metadata": {},
     "output_type": "execute_result"
    }
   ],
   "source": [
    "hp_GJ['MEGA_NM'].unique()"
   ]
  },
  {
   "cell_type": "code",
   "execution_count": 11,
   "id": "50ef4b67",
   "metadata": {},
   "outputs": [
    {
     "data": {
      "text/plain": [
       "array(['11'], dtype=object)"
      ]
     },
     "execution_count": 11,
     "metadata": {},
     "output_type": "execute_result"
    }
   ],
   "source": [
    "hp_GJ['MEGA_CD'].unique()"
   ]
  },
  {
   "cell_type": "code",
   "execution_count": 12,
   "id": "2bd8aef5",
   "metadata": {},
   "outputs": [
    {
     "data": {
      "text/plain": [
       "array(['1121'], dtype=object)"
      ]
     },
     "execution_count": 12,
     "metadata": {},
     "output_type": "execute_result"
    }
   ],
   "source": [
    "hp_GJ['CTY_CD'].unique()"
   ]
  },
  {
   "cell_type": "code",
   "execution_count": 13,
   "id": "06489ce4",
   "metadata": {},
   "outputs": [
    {
     "data": {
      "text/plain": [
       "array(['광진구'], dtype=object)"
      ]
     },
     "execution_count": 13,
     "metadata": {},
     "output_type": "execute_result"
    }
   ],
   "source": [
    "hp_GJ['CTY_NM'].unique()"
   ]
  },
  {
   "cell_type": "code",
   "execution_count": 14,
   "id": "00db7470",
   "metadata": {},
   "outputs": [
    {
     "data": {
      "text/plain": [
       "array([319550, 319150, 320450, 319850, 319650, 321450, 317850, 317750,\n",
       "       318850, 318050, 318250, 319450, 319050, 317550, 318150, 319250,\n",
       "       320150, 318550, 317950, 317650, 320350, 319750, 318450, 319350,\n",
       "       321550, 321350, 317450, 318950, 320550, 321250, 320250, 320650,\n",
       "       318650, 320750, 320050, 318750, 317350, 321050, 320850, 319950,\n",
       "       320950], dtype=int64)"
      ]
     },
     "execution_count": 14,
     "metadata": {},
     "output_type": "execute_result"
    }
   ],
   "source": [
    "hp_GJ['X_AXIS'].unique()"
   ]
  },
  {
   "cell_type": "code",
   "execution_count": 15,
   "id": "29d6b937",
   "metadata": {},
   "outputs": [
    {
     "data": {
      "text/plain": [
       "array([551050, 548650, 549150, 548350, 549550, 550050, 548550, 552450,\n",
       "       549450, 550450, 548150, 552050, 548750, 550150, 548850, 549650,\n",
       "       551150, 548450, 549250, 548250, 551550, 550750, 551450, 548950,\n",
       "       548050, 549050, 550350, 551750, 547850, 549950, 552250, 550950,\n",
       "       551950, 550250, 549750, 551850, 552150, 552550, 549850, 550850,\n",
       "       549350, 551650, 550550, 550650, 551250, 552350, 547950],\n",
       "      dtype=int64)"
      ]
     },
     "execution_count": 15,
     "metadata": {},
     "output_type": "execute_result"
    }
   ],
   "source": [
    "hp_GJ['Y_AXIS'].unique()"
   ]
  },
  {
   "cell_type": "code",
   "execution_count": 16,
   "id": "efefcd01",
   "metadata": {},
   "outputs": [
    {
     "data": {
      "text/plain": [
       "array([100, 175, 150,  25,  50,  75, 125, 275, 225, 200, 250], dtype=int64)"
      ]
     },
     "execution_count": 16,
     "metadata": {},
     "output_type": "execute_result"
    }
   ],
   "source": [
    "hp_GJ['TOTAL'].unique()"
   ]
  },
  {
   "cell_type": "code",
   "execution_count": 17,
   "id": "fa93b94c",
   "metadata": {},
   "outputs": [
    {
     "data": {
      "text/plain": [
       "array([0], dtype=int64)"
      ]
     },
     "execution_count": 17,
     "metadata": {},
     "output_type": "execute_result"
    }
   ],
   "source": [
    "hp_GJ['종합전문병원'].unique()"
   ]
  },
  {
   "cell_type": "code",
   "execution_count": 18,
   "id": "8afe27ec",
   "metadata": {},
   "outputs": [
    {
     "data": {
      "text/plain": [
       "array([ 0, 25], dtype=int64)"
      ]
     },
     "execution_count": 18,
     "metadata": {},
     "output_type": "execute_result"
    }
   ],
   "source": [
    "hp_GJ['한방병원'].unique()"
   ]
  },
  {
   "cell_type": "code",
   "execution_count": 19,
   "id": "2ec17f84",
   "metadata": {},
   "outputs": [
    {
     "data": {
      "text/plain": [
       "array([ 0, 25], dtype=int64)"
      ]
     },
     "execution_count": 19,
     "metadata": {},
     "output_type": "execute_result"
    }
   ],
   "source": [
    "hp_GJ['치과병원'].unique()"
   ]
  },
  {
   "cell_type": "code",
   "execution_count": 20,
   "id": "4a809514",
   "metadata": {},
   "outputs": [
    {
     "data": {
      "text/plain": [
       "array([0], dtype=int64)"
      ]
     },
     "execution_count": 20,
     "metadata": {},
     "output_type": "execute_result"
    }
   ],
   "source": [
    "hp_GJ['조산원'].unique()"
   ]
  },
  {
   "cell_type": "code",
   "execution_count": 21,
   "id": "07d625bd",
   "metadata": {},
   "outputs": [
    {
     "data": {
      "text/plain": [
       "array([ 0, 25], dtype=int64)"
      ]
     },
     "execution_count": 21,
     "metadata": {},
     "output_type": "execute_result"
    }
   ],
   "source": [
    "hp_GJ['일반병원'].unique()"
   ]
  },
  {
   "cell_type": "code",
   "execution_count": 22,
   "id": "22bdb19b",
   "metadata": {},
   "outputs": [
    {
     "data": {
      "text/plain": [
       "array([ 0, 25], dtype=int64)"
      ]
     },
     "execution_count": 22,
     "metadata": {},
     "output_type": "execute_result"
    }
   ],
   "source": [
    "hp_GJ['요양병원'].unique()"
   ]
  },
  {
   "cell_type": "code",
   "execution_count": 23,
   "id": "3230f03c",
   "metadata": {},
   "outputs": [
    {
     "data": {
      "text/plain": [
       "array([ 50, 125, 100,  25,   0,  75, 175, 150, 200], dtype=int64)"
      ]
     },
     "execution_count": 23,
     "metadata": {},
     "output_type": "execute_result"
    }
   ],
   "source": [
    "hp_GJ['의원'].unique()"
   ]
  },
  {
   "cell_type": "code",
   "execution_count": 24,
   "id": "c28ad91d",
   "metadata": {},
   "outputs": [
    {
     "data": {
      "text/plain": [
       "array([ 0, 25], dtype=int64)"
      ]
     },
     "execution_count": 24,
     "metadata": {},
     "output_type": "execute_result"
    }
   ],
   "source": [
    "hp_GJ['치과병원'].unique()"
   ]
  },
  {
   "cell_type": "code",
   "execution_count": 25,
   "id": "9f28279a",
   "metadata": {},
   "outputs": [
    {
     "data": {
      "text/plain": [
       "array([ 0, 25], dtype=int64)"
      ]
     },
     "execution_count": 25,
     "metadata": {},
     "output_type": "execute_result"
    }
   ],
   "source": [
    "hp_GJ['종합병원'].unique()"
   ]
  },
  {
   "cell_type": "code",
   "execution_count": 26,
   "id": "a83c8d03",
   "metadata": {},
   "outputs": [
    {
     "data": {
      "text/plain": [
       "<GeometryArray>\n",
       "[<POINT (207637.004 450658.861)>, <POINT (207262.471 448254.704)>,\n",
       " <POINT (208557.125 448768.471)>, <POINT (207965.627 447962.137)>,\n",
       "  <POINT (207752.91 449159.974)>, <POINT (209547.548 449679.047)>,\n",
       " <POINT (205957.218 448740.901)>, <POINT (205863.584 448139.864)>,\n",
       " <POINT (206922.176 452051.384)>,  <POINT (206154.029 449043.01)>,\n",
       " ...\n",
       " <POINT (206248.723 449544.052)>,  <POINT (209052.867 449173.76)>,\n",
       " <POINT (209051.806 449273.757)>, <POINT (208456.068 448867.408)>,\n",
       " <POINT (207362.468 448255.765)>,  <POINT (208063.504 448163.19)>,\n",
       "  <POINT (207269.893 447554.73)>, <POINT (209154.984 448974.827)>,\n",
       " <POINT (208044.415 449963.128)>, <POINT (207836.997 450660.982)>]\n",
       "Length: 206, dtype: geometry"
      ]
     },
     "execution_count": 26,
     "metadata": {},
     "output_type": "execute_result"
    }
   ],
   "source": [
    "hp_GJ['geometry'].unique()"
   ]
  },
  {
   "cell_type": "code",
   "execution_count": 28,
   "id": "807b8bbd",
   "metadata": {},
   "outputs": [
    {
     "data": {
      "text/html": [
       "<div>\n",
       "<style scoped>\n",
       "    .dataframe tbody tr th:only-of-type {\n",
       "        vertical-align: middle;\n",
       "    }\n",
       "\n",
       "    .dataframe tbody tr th {\n",
       "        vertical-align: top;\n",
       "    }\n",
       "\n",
       "    .dataframe thead th {\n",
       "        text-align: right;\n",
       "    }\n",
       "</style>\n",
       "<table border=\"1\" class=\"dataframe\">\n",
       "  <thead>\n",
       "    <tr style=\"text-align: right;\">\n",
       "      <th></th>\n",
       "      <th>X_AXIS</th>\n",
       "      <th>Y_AXIS</th>\n",
       "      <th>TOTAL</th>\n",
       "      <th>종합전문병원</th>\n",
       "      <th>한방병원</th>\n",
       "      <th>치과병원</th>\n",
       "      <th>한의원</th>\n",
       "      <th>조산원</th>\n",
       "      <th>일반병원</th>\n",
       "      <th>요양병원</th>\n",
       "      <th>의원</th>\n",
       "      <th>치과의원</th>\n",
       "      <th>종합병원</th>\n",
       "      <th>geometry</th>\n",
       "    </tr>\n",
       "  </thead>\n",
       "  <tbody>\n",
       "    <tr>\n",
       "      <th>670</th>\n",
       "      <td>319550</td>\n",
       "      <td>551050</td>\n",
       "      <td>100</td>\n",
       "      <td>0</td>\n",
       "      <td>0</td>\n",
       "      <td>0</td>\n",
       "      <td>25</td>\n",
       "      <td>0</td>\n",
       "      <td>0</td>\n",
       "      <td>0</td>\n",
       "      <td>50</td>\n",
       "      <td>25</td>\n",
       "      <td>0</td>\n",
       "      <td>POINT (207637.004 450658.861)</td>\n",
       "    </tr>\n",
       "    <tr>\n",
       "      <th>681</th>\n",
       "      <td>319150</td>\n",
       "      <td>548650</td>\n",
       "      <td>175</td>\n",
       "      <td>0</td>\n",
       "      <td>0</td>\n",
       "      <td>0</td>\n",
       "      <td>0</td>\n",
       "      <td>0</td>\n",
       "      <td>0</td>\n",
       "      <td>0</td>\n",
       "      <td>125</td>\n",
       "      <td>50</td>\n",
       "      <td>0</td>\n",
       "      <td>POINT (207262.471 448254.704)</td>\n",
       "    </tr>\n",
       "    <tr>\n",
       "      <th>707</th>\n",
       "      <td>320450</td>\n",
       "      <td>549150</td>\n",
       "      <td>150</td>\n",
       "      <td>0</td>\n",
       "      <td>0</td>\n",
       "      <td>0</td>\n",
       "      <td>25</td>\n",
       "      <td>0</td>\n",
       "      <td>0</td>\n",
       "      <td>0</td>\n",
       "      <td>100</td>\n",
       "      <td>25</td>\n",
       "      <td>0</td>\n",
       "      <td>POINT (208557.125 448768.471)</td>\n",
       "    </tr>\n",
       "    <tr>\n",
       "      <th>762</th>\n",
       "      <td>319850</td>\n",
       "      <td>548350</td>\n",
       "      <td>25</td>\n",
       "      <td>0</td>\n",
       "      <td>0</td>\n",
       "      <td>0</td>\n",
       "      <td>0</td>\n",
       "      <td>0</td>\n",
       "      <td>0</td>\n",
       "      <td>0</td>\n",
       "      <td>25</td>\n",
       "      <td>0</td>\n",
       "      <td>0</td>\n",
       "      <td>POINT (207965.627 447962.137)</td>\n",
       "    </tr>\n",
       "    <tr>\n",
       "      <th>811</th>\n",
       "      <td>319650</td>\n",
       "      <td>549550</td>\n",
       "      <td>50</td>\n",
       "      <td>0</td>\n",
       "      <td>0</td>\n",
       "      <td>0</td>\n",
       "      <td>0</td>\n",
       "      <td>0</td>\n",
       "      <td>0</td>\n",
       "      <td>0</td>\n",
       "      <td>50</td>\n",
       "      <td>0</td>\n",
       "      <td>0</td>\n",
       "      <td>POINT (207752.910 449159.974)</td>\n",
       "    </tr>\n",
       "    <tr>\n",
       "      <th>...</th>\n",
       "      <td>...</td>\n",
       "      <td>...</td>\n",
       "      <td>...</td>\n",
       "      <td>...</td>\n",
       "      <td>...</td>\n",
       "      <td>...</td>\n",
       "      <td>...</td>\n",
       "      <td>...</td>\n",
       "      <td>...</td>\n",
       "      <td>...</td>\n",
       "      <td>...</td>\n",
       "      <td>...</td>\n",
       "      <td>...</td>\n",
       "      <td>...</td>\n",
       "    </tr>\n",
       "    <tr>\n",
       "      <th>26647</th>\n",
       "      <td>319950</td>\n",
       "      <td>548550</td>\n",
       "      <td>25</td>\n",
       "      <td>0</td>\n",
       "      <td>0</td>\n",
       "      <td>0</td>\n",
       "      <td>25</td>\n",
       "      <td>0</td>\n",
       "      <td>0</td>\n",
       "      <td>0</td>\n",
       "      <td>0</td>\n",
       "      <td>0</td>\n",
       "      <td>0</td>\n",
       "      <td>POINT (208063.504 448163.190)</td>\n",
       "    </tr>\n",
       "    <tr>\n",
       "      <th>26666</th>\n",
       "      <td>319150</td>\n",
       "      <td>547950</td>\n",
       "      <td>25</td>\n",
       "      <td>0</td>\n",
       "      <td>0</td>\n",
       "      <td>0</td>\n",
       "      <td>25</td>\n",
       "      <td>0</td>\n",
       "      <td>0</td>\n",
       "      <td>0</td>\n",
       "      <td>0</td>\n",
       "      <td>0</td>\n",
       "      <td>0</td>\n",
       "      <td>POINT (207269.893 447554.730)</td>\n",
       "    </tr>\n",
       "    <tr>\n",
       "      <th>26667</th>\n",
       "      <td>321050</td>\n",
       "      <td>549350</td>\n",
       "      <td>25</td>\n",
       "      <td>0</td>\n",
       "      <td>0</td>\n",
       "      <td>0</td>\n",
       "      <td>25</td>\n",
       "      <td>0</td>\n",
       "      <td>0</td>\n",
       "      <td>0</td>\n",
       "      <td>0</td>\n",
       "      <td>0</td>\n",
       "      <td>0</td>\n",
       "      <td>POINT (209154.984 448974.827)</td>\n",
       "    </tr>\n",
       "    <tr>\n",
       "      <th>26807</th>\n",
       "      <td>319950</td>\n",
       "      <td>550350</td>\n",
       "      <td>25</td>\n",
       "      <td>0</td>\n",
       "      <td>0</td>\n",
       "      <td>0</td>\n",
       "      <td>25</td>\n",
       "      <td>0</td>\n",
       "      <td>0</td>\n",
       "      <td>0</td>\n",
       "      <td>0</td>\n",
       "      <td>0</td>\n",
       "      <td>0</td>\n",
       "      <td>POINT (208044.415 449963.128)</td>\n",
       "    </tr>\n",
       "    <tr>\n",
       "      <th>26951</th>\n",
       "      <td>319750</td>\n",
       "      <td>551050</td>\n",
       "      <td>25</td>\n",
       "      <td>0</td>\n",
       "      <td>0</td>\n",
       "      <td>0</td>\n",
       "      <td>25</td>\n",
       "      <td>0</td>\n",
       "      <td>0</td>\n",
       "      <td>0</td>\n",
       "      <td>0</td>\n",
       "      <td>0</td>\n",
       "      <td>0</td>\n",
       "      <td>POINT (207836.997 450660.982)</td>\n",
       "    </tr>\n",
       "  </tbody>\n",
       "</table>\n",
       "<p>206 rows × 14 columns</p>\n",
       "</div>"
      ],
      "text/plain": [
       "       X_AXIS  Y_AXIS  TOTAL  종합전문병원  한방병원  치과병원  한의원  조산원  일반병원  요양병원   의원   \n",
       "670    319550  551050    100       0     0     0   25    0     0     0   50  \\\n",
       "681    319150  548650    175       0     0     0    0    0     0     0  125   \n",
       "707    320450  549150    150       0     0     0   25    0     0     0  100   \n",
       "762    319850  548350     25       0     0     0    0    0     0     0   25   \n",
       "811    319650  549550     50       0     0     0    0    0     0     0   50   \n",
       "...       ...     ...    ...     ...   ...   ...  ...  ...   ...   ...  ...   \n",
       "26647  319950  548550     25       0     0     0   25    0     0     0    0   \n",
       "26666  319150  547950     25       0     0     0   25    0     0     0    0   \n",
       "26667  321050  549350     25       0     0     0   25    0     0     0    0   \n",
       "26807  319950  550350     25       0     0     0   25    0     0     0    0   \n",
       "26951  319750  551050     25       0     0     0   25    0     0     0    0   \n",
       "\n",
       "       치과의원  종합병원                       geometry  \n",
       "670      25     0  POINT (207637.004 450658.861)  \n",
       "681      50     0  POINT (207262.471 448254.704)  \n",
       "707      25     0  POINT (208557.125 448768.471)  \n",
       "762       0     0  POINT (207965.627 447962.137)  \n",
       "811       0     0  POINT (207752.910 449159.974)  \n",
       "...     ...   ...                            ...  \n",
       "26647     0     0  POINT (208063.504 448163.190)  \n",
       "26666     0     0  POINT (207269.893 447554.730)  \n",
       "26667     0     0  POINT (209154.984 448974.827)  \n",
       "26807     0     0  POINT (208044.415 449963.128)  \n",
       "26951     0     0  POINT (207836.997 450660.982)  \n",
       "\n",
       "[206 rows x 14 columns]"
      ]
     },
     "execution_count": 28,
     "metadata": {},
     "output_type": "execute_result"
    }
   ],
   "source": [
    "result_dataset = hp_GJ[using_columns]\n",
    "result_dataset"
   ]
  },
  {
   "cell_type": "code",
   "execution_count": 31,
   "id": "9c68328c",
   "metadata": {},
   "outputs": [
    {
     "data": {
      "image/png": "[encoded data removed]",
      "text/plain": [
       "<Figure size 640x480 with 1 Axes>"
      ]
     },
     "metadata": {},
     "output_type": "display_data"
    }
   ],
   "source": [
    "#ax = result_dataset.convex_hull.plot(color='green', edgecolor=\"w\", size = 'TOTAL')          \n",
    "ax = result_dataset.convex_hull.plot(color='green', edgecolor=\"w\")       \n",
    "# ax.set_axis_off()                            # 축제거\n",
    "plt.show()"
   ]
  },
  {
   "cell_type": "code",
   "execution_count": null,
   "id": "c58b55c5",
   "metadata": {},
   "outputs": [],
   "source": []
  }
 ],
 "metadata": {
  "kernelspec": {
   "display_name": "Python 3 (ipykernel)",
   "language": "python",
   "name": "python3"
  },
  "language_info": {
   "codemirror_mode": {
    "name": "ipython",
    "version": 3
   },
   "file_extension": ".py",
   "mimetype": "text/x-python",
   "name": "python",
   "nbconvert_exporter": "python",
   "pygments_lexer": "ipython3",
   "version": "3.10.8"
  }
 },
 "nbformat": 4,
 "nbformat_minor": 5
}
